{
 "cells": [
  {
   "cell_type": "code",
   "execution_count": 1,
   "metadata": {},
   "outputs": [
    {
     "name": "stdout",
     "output_type": "stream",
     "text": [
      "2.4.1+cu121\n",
      "True\n",
      "12.1\n"
     ]
    }
   ],
   "source": [
    "import torch\n",
    "\n",
    "print(torch.__version__)\n",
    "print(torch.cuda.is_available())\n",
    "print(torch.version.cuda)"
   ]
  },
  {
   "cell_type": "code",
   "execution_count": 2,
   "metadata": {},
   "outputs": [
    {
     "name": "stdout",
     "output_type": "stream",
     "text": [
      "Testing on CPU...\n",
      "Time taken for addition on cpu: 0.1746 seconds\n",
      "Time taken for matrix multiplication on cpu: 1.5717 seconds\n",
      "Testing on GPU...\n",
      "Time taken for addition on cuda: 0.0393 seconds\n",
      "Time taken for matrix multiplication on cuda: 0.3206 seconds\n"
     ]
    }
   ],
   "source": [
    "import torch\n",
    "import time\n",
    "\n",
    "def test_pytorch_performance(device):\n",
    "    # 设置张量的大小\n",
    "    size = (10000, 10000)\n",
    "\n",
    "    # 在指定设备上创建随机张量\n",
    "    x = torch.randn(size, device=device)\n",
    "    y = torch.randn(size, device=device)\n",
    "\n",
    "    # 测量加法运算时间\n",
    "    start_time = time.time()\n",
    "    z = x + y\n",
    "    torch.cuda.synchronize()  # 如果在 GPU 上，确保所有计算完成\n",
    "    end_time = time.time()\n",
    "    print(f\"Time taken for addition on {device}: {end_time - start_time:.4f} seconds\")\n",
    "\n",
    "    # 测量矩阵乘法时间\n",
    "    start_time = time.time()\n",
    "    z = torch.mm(x, y)\n",
    "    torch.cuda.synchronize()  # 如果在 GPU 上，确保所有计算完成\n",
    "    end_time = time.time()\n",
    "    print(f\"Time taken for matrix multiplication on {device}: {end_time - start_time:.4f} seconds\")\n",
    "\n",
    "# 测试在 CPU 上\n",
    "print(\"Testing on CPU...\")\n",
    "test_pytorch_performance(device='cpu')\n",
    "\n",
    "# 测试在 GPU 上\n",
    "if torch.cuda.is_available():\n",
    "    print(\"Testing on GPU...\")\n",
    "    test_pytorch_performance(device='cuda')\n",
    "else:\n",
    "    print(\"GPU is not available.\")\n"
   ]
  }
 ],
 "metadata": {
  "kernelspec": {
   "display_name": "mcm2025",
   "language": "python",
   "name": "python3"
  },
  "language_info": {
   "codemirror_mode": {
    "name": "ipython",
    "version": 3
   },
   "file_extension": ".py",
   "mimetype": "text/x-python",
   "name": "python",
   "nbconvert_exporter": "python",
   "pygments_lexer": "ipython3",
   "version": "3.8.20"
  }
 },
 "nbformat": 4,
 "nbformat_minor": 2
}
