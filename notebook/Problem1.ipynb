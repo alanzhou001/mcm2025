{
 "cells": [
  {
   "cell_type": "code",
   "execution_count": 1,
   "metadata": {},
   "outputs": [
    {
     "name": "stdout",
     "output_type": "stream",
     "text": [
      "Classification Report:\n",
      "              precision    recall  f1-score   support\n",
      "\n",
      "    No Medal       0.86      0.99      0.92     42749\n",
      "       Medal       0.72      0.07      0.14      7764\n",
      "\n",
      "    accuracy                           0.85     50513\n",
      "   macro avg       0.79      0.53      0.53     50513\n",
      "weighted avg       0.83      0.85      0.80     50513\n",
      "\n"
     ]
    }
   ],
   "source": [
    "import pandas as pd\n",
    "from sklearn.model_selection import train_test_split\n",
    "from sklearn.ensemble import GradientBoostingClassifier\n",
    "from sklearn.preprocessing import LabelEncoder\n",
    "from sklearn.metrics import classification_report\n",
    "\n",
    "# Load the dataset\n",
    "file_path = 'summerOly_athletes.csv'\n",
    "athletes_data = pd.read_csv(file_path)\n",
    "\n",
    "# Step 1: Data preprocessing\n",
    "# Simplify Medal column to binary: Medal (1) vs No Medal (0)\n",
    "athletes_data['Medal'] = athletes_data['Medal'].apply(lambda x: 1 if x != 'No medal' else 0)\n",
    "\n",
    "# Encode categorical columns using LabelEncoder\n",
    "categorical_cols = ['Sex', 'Team', 'NOC', 'City', 'Sport', 'Event']\n",
    "label_encoders = {col: LabelEncoder() for col in categorical_cols}\n",
    "\n",
    "for col in categorical_cols:\n",
    "    athletes_data[col] = label_encoders[col].fit_transform(athletes_data[col])\n",
    "\n",
    "# Select features and target variable\n",
    "X = athletes_data[['Sex', 'Team', 'NOC', 'Year', 'City', 'Sport', 'Event']]\n",
    "y = athletes_data['Medal']\n",
    "\n",
    "# Split data into training and testing sets\n",
    "X_train, X_test, y_train, y_test = train_test_split(\n",
    "    X, y, test_size=0.2, random_state=42, stratify=y\n",
    ")\n",
    "\n",
    "# Step 2: Train a Gradient Boosting Classifier\n",
    "# Set class weight to balance the classes\n",
    "gbdt_model = GradientBoostingClassifier(random_state=42)\n",
    "gbdt_model.fit(X_train, y_train)\n",
    "\n",
    "# Step 3: Evaluate the model on the test set\n",
    "y_pred = gbdt_model.predict(X_test)\n",
    "report = classification_report(y_test, y_pred, target_names=['No Medal', 'Medal'])\n",
    "\n",
    "# Output evaluation results\n",
    "print(\"Classification Report:\")\n",
    "print(report)"
   ]
  },
  {
   "cell_type": "code",
   "execution_count": null,
   "metadata": {},
   "outputs": [],
   "source": []
  }
 ],
 "metadata": {
  "kernelspec": {
   "display_name": "Python 3",
   "language": "python",
   "name": "python3"
  },
  "language_info": {
   "codemirror_mode": {
    "name": "ipython",
    "version": 3
   },
   "file_extension": ".py",
   "mimetype": "text/x-python",
   "name": "python",
   "nbconvert_exporter": "python",
   "pygments_lexer": "ipython3",
   "version": "3.12.7"
  }
 },
 "nbformat": 4,
 "nbformat_minor": 2
}
