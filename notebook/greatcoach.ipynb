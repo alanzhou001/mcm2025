{
 "cells": [
  {
   "cell_type": "code",
   "execution_count": null,
   "metadata": {},
   "outputs": [],
   "source": [
    "import numpy as np\n",
    "import matplotlib.pyplot as plt\n",
    "import matplotlib.patches as patches\n",
    "import openpyxl\n",
    "import pandas as pd"
   ]
  },
  {
   "cell_type": "code",
   "execution_count": 2,
   "metadata": {},
   "outputs": [
    {
     "name": "stdout",
     "output_type": "stream",
     "text": [
      "                    Sport  total_medals  gold_medals  participation_years\n",
      "0          3x3 Basketball             4            0                    2\n",
      "1                 Archery            22            1                   11\n",
      "2        Art Competitions             0            0                    1\n",
      "3     Artistic Gymnastics            24            5                    2\n",
      "4       Artistic Swimming            21           11                    2\n",
      "5               Athletics            36           11                   14\n",
      "6               Badminton            83           35                    9\n",
      "7                Baseball             0            0                    1\n",
      "8              Basketball            23            0                   13\n",
      "9        Beach Volleyball             4            0                    7\n",
      "10                 Boxing            19            6                   11\n",
      "11               Breaking             1            0                    1\n",
      "12           Canoe Slalom             0            0                    2\n",
      "13           Canoe Sprint             9            6                    2\n",
      "14               Canoeing             4            4                    8\n",
      "15                Cycling             9            2                   11\n",
      "16  Cycling BMX Freestyle             1            1                    1\n",
      "17  Cycling Mountain Bike             0            0                    2\n",
      "18           Cycling Road             0            0                    2\n",
      "19          Cycling Track             3            3                    2\n",
      "20                 Diving           119           78                   11\n",
      "21             Equestrian             0            0                    2\n",
      "22          Equestrianism             0            0                    2\n",
      "23                Fencing            31            8                   11\n",
      "24               Football            15            0                    9\n",
      "25                   Golf             2            0                    3\n",
      "26             Gymnastics           109           45                    9\n",
      "27               Handball            13            0                    5\n",
      "28                 Hockey            33            0                    7\n",
      "29                   Judo            23            8                   11\n",
      "30                 Karate             2            0                    1\n",
      "31      Marathon Swimming             0            0                    2\n",
      "32      Modern Pentathlon             1            0                    9\n",
      "33    Rhythmic Gymnastics            11            5                   11\n",
      "34                 Rowing            44            8                   11\n",
      "35           Rugby Sevens             0            0                    2\n",
      "36                Sailing             8            3                   11\n",
      "37               Shooting            81           34                   11\n",
      "38          Skateboarding             0            0                    2\n",
      "39               Softball            15            0                    4\n",
      "40         Sport Climbing             2            0                    2\n",
      "41                Surfing             0            0                    1\n",
      "42               Swimming           120           27                   14\n",
      "43  Synchronized Swimming            31            0                    8\n",
      "44           Table Tennis           104           67                   10\n",
      "45              Taekwondo            13            7                    7\n",
      "46                 Tennis             7            3                   10\n",
      "47  Trampoline Gymnastics             5            1                    2\n",
      "48           Trampolining            11            3                    4\n",
      "49              Triathlon             0            0                    7\n",
      "50             Volleyball            66           34                   11\n",
      "51             Water Polo             0            0                    7\n",
      "52          Weightlifting            70           46                   12\n",
      "53              Wrestling            19            2                   11\n"
     ]
    }
   ],
   "source": [
    "import pandas as pd\n",
    "\n",
    "# 读取CSV文件\n",
    "file_path = r'D:\\mcm2025\\data\\processed\\changed_athletes.csv'  # 请确保文件路径正确\n",
    "data = pd.read_csv(file_path)  # 假设文件是Tab分隔符\n",
    "\n",
    "# 筛选出中国（CHN）的数据\n",
    "chn_data = data[data['NOC'] == 'CHN']\n",
    "\n",
    "# 定义一个函数来统计奖牌数\n",
    "def medal_count(medal_series, medal_type):\n",
    "    return medal_series.str.contains(medal_type, case=False, na=False).sum()\n",
    "\n",
    "# 按比赛（Sport）分组，计算统计信息\n",
    "result = chn_data.groupby('Sport').agg(\n",
    "    total_medals=('Medal', lambda x: medal_count(x, 'Gold|Silver|Bronze')),\n",
    "    gold_medals=('Medal', lambda x: medal_count(x, 'Gold')),\n",
    "    participation_years=('Year', lambda x: x.nunique())  # 统计去重后的年份数量\n",
    ").reset_index()\n",
    "\n",
    "# 打印结果\n",
    "print(result)\n",
    "\n",
    "# 将结果保存为excel文件\n",
    "result.to_excel('CHN.xlsx', index=False)\n"
   ]
  }
 ],
 "metadata": {
  "kernelspec": {
   "display_name": "mcm2025",
   "language": "python",
   "name": "python3"
  },
  "language_info": {
   "codemirror_mode": {
    "name": "ipython",
    "version": 3
   },
   "file_extension": ".py",
   "mimetype": "text/x-python",
   "name": "python",
   "nbconvert_exporter": "python",
   "pygments_lexer": "ipython3",
   "version": "3.8.20"
  }
 },
 "nbformat": 4,
 "nbformat_minor": 2
}
