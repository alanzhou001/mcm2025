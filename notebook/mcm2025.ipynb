{
 "cells": [
  {
   "cell_type": "markdown",
   "metadata": {},
   "source": [
    "# 导入必要的库"
   ]
  },
  {
   "cell_type": "code",
   "execution_count": 110,
   "metadata": {},
   "outputs": [],
   "source": [
    "import pandas as pd\n",
    "import numpy as np"
   ]
  },
  {
   "cell_type": "markdown",
   "metadata": {},
   "source": [
    "# 读取数据"
   ]
  },
  {
   "cell_type": "code",
   "execution_count": 111,
   "metadata": {},
   "outputs": [],
   "source": [
    "athletes_df = pd.read_csv(r'D:\\mcm2025\\data\\processed\\athletes.csv', encoding='ISO-8859-1')\n",
    "hosts_df = pd.read_csv(r'D:\\mcm2025\\data\\processed\\hosts.csv', encoding='ISO-8859-1')\n",
    "medal_counts_df = pd.read_csv(r'D:\\mcm2025\\data\\processed\\medal_counts.csv', encoding='ISO-8859-1')\n",
    "programs_df = pd.read_csv(r'D:\\mcm2025\\data\\processed\\programs.csv', encoding='ISO-8859-1')"
   ]
  },
  {
   "cell_type": "code",
   "execution_count": 112,
   "metadata": {},
   "outputs": [
    {
     "name": "stdout",
     "output_type": "stream",
     "text": [
      "                    Name Sex            Team  NOC  Year         City  \\\n",
      "0              A Dijiang   M           China  CHN  1992    Barcelona   \n",
      "1               A Lamusi   M           China  CHN  2012       London   \n",
      "2            Gunnar Aaby   M         Denmark  DEN  1920    Antwerpen   \n",
      "3            Edgar Aabye   M  Denmark/Sweden  DEN  1900        Paris   \n",
      "4  Cornelia (-strannood)   F     Netherlands  NED  1932  Los Angeles   \n",
      "\n",
      "        Sport                         Event     Medal  \n",
      "0  Basketball   Basketball Men's Basketball  No medal  \n",
      "1        Judo  Judo Men's Extra-Lightweight  No medal  \n",
      "2    Football       Football Men's Football  No medal  \n",
      "3  Tug-Of-War   Tug-Of-War Men's Tug-Of-War      Gold  \n",
      "4   Athletics  Athletics Women's 100 metres  No medal  \n",
      "   Year                         Host\n",
      "0  1896            Â Athens,Â Greece\n",
      "1  1900             Â Paris,Â France\n",
      "2  1904  Â St. Louis,Â United States\n",
      "3  1908    Â London,Â United Kingdom\n",
      "4  1912         Â Stockholm,Â Sweden\n",
      "   Rank            NOC  Gold  Silver  Bronze  Total  Year\n",
      "0     1  United States    11       7       2     20  1896\n",
      "1     2         Greece    10      18      19     47  1896\n",
      "2     3        Germany     6       5       2     13  1896\n",
      "3     4         France     5       4       2     11  1896\n",
      "4     5  Great Britain     2       3       2      7  1896\n",
      "      Sport         Discipline Code Sports Governing Body  1896  1900  1904  \\\n",
      "0  Aquatics  Artistic Swimming  SWA        World Aquatics     0     0     0   \n",
      "1  Aquatics             Diving  DIV        World Aquatics     0     0     2   \n",
      "2  Aquatics  Marathon Swimming  OWS        World Aquatics     0     0     0   \n",
      "3  Aquatics           Swimming  SWM        World Aquatics     4     7     9   \n",
      "4  Aquatics         Water Polo  WPO        World Aquatics     0     1     1   \n",
      "\n",
      "   1906  1908  1912  ...  1988  1992  1996  2000  2004  2008  2012  2016  \\\n",
      "0     0     0     0  ...     2     2     1     2     2     2     2     2   \n",
      "1     1     2     4  ...     4     4     4     8     8     8     8     8   \n",
      "2     0     0     0  ...     0     0     0     0     0     2     2     2   \n",
      "3     4     6     9  ...    31    31    32    32    32    32    32    32   \n",
      "4     0     1     1  ...     1     1     1     2     2     2     2     2   \n",
      "\n",
      "   2020  2024  \n",
      "0     2     2  \n",
      "1     8     8  \n",
      "2     2     2  \n",
      "3    35    35  \n",
      "4     2     2  \n",
      "\n",
      "[5 rows x 35 columns]\n"
     ]
    }
   ],
   "source": [
    "print(athletes_df.head())\n",
    "print(hosts_df.head())\n",
    "print(medal_counts_df.head())\n",
    "print(programs_df.head())"
   ]
  },
  {
   "cell_type": "markdown",
   "metadata": {},
   "source": [
    "# XGboost"
   ]
  },
  {
   "cell_type": "code",
   "execution_count": 113,
   "metadata": {},
   "outputs": [],
   "source": [
    "import pandas as pd\n",
    "import xgboost as xgb\n",
    "from sklearn.model_selection import train_test_split\n",
    "from sklearn.metrics import mean_squared_error"
   ]
  },
  {
   "cell_type": "code",
   "execution_count": 114,
   "metadata": {},
   "outputs": [],
   "source": [
    "athletes_data = pd.read_csv(r'D:\\mcm2025\\data\\processed\\athletes.csv', encoding='ISO-8859-1')\n",
    "hosts_data = pd.read_csv(r'D:\\mcm2025\\data\\processed\\hosts.csv', encoding='ISO-8859-1')\n",
    "medal_counts_data = pd.read_csv(r'D:\\mcm2025\\data\\processed\\medal_counts.csv', encoding='ISO-8859-1')\n",
    "programs_data = pd.read_csv(r'D:\\mcm2025\\data\\processed\\programs.csv', encoding='ISO-8859-1')"
   ]
  },
  {
   "cell_type": "code",
   "execution_count": 115,
   "metadata": {},
   "outputs": [],
   "source": [
    "medal_data = medal_counts_data[[\"NOC\", \"Year\", \"Gold\", \"Silver\", \"Bronze\", \"Total\"]]\n",
    "\n",
    "medal_data = medal_data.merge(hosts_data, on=\"Year\", how=\"left\")\n",
    "medal_data[\"Host_Status\"] = (medal_data[\"Host\"] == medal_data[\"NOC\"]).astype(int)\n"
   ]
  },
  {
   "cell_type": "code",
   "execution_count": 116,
   "metadata": {},
   "outputs": [],
   "source": [
    "athletes_summary = athletes_data.groupby([\"NOC\", \"Year\"]).agg(\n",
    "    Total_Athletes=(\"Name\", \"count\"),  # Total number of athletes\n",
    "    Total_Sports=(\"Sport\", \"nunique\")  # Unique sports represented\n",
    ").reset_index()\n",
    "\n",
    "medal_data = medal_data.merge(athletes_summary, on=[\"NOC\", \"Year\"], how=\"left\")\n",
    "\n",
    "medal_data[\"Total_Athletes\"] = medal_data[\"Total_Athletes\"].fillna(0)\n",
    "medal_data[\"Total_Sports\"] = medal_data[\"Total_Sports\"].fillna(0)\n"
   ]
  },
  {
   "cell_type": "code",
   "execution_count": 117,
   "metadata": {},
   "outputs": [],
   "source": [
    "programs_data_melted = programs_data.melt(\n",
    "    id_vars=[\"Sport\", \"Discipline\", \"Code\", \"Sports Governing Body\"], \n",
    "    var_name=\"Year\", \n",
    "    value_name=\"Event_Count\"\n",
    ")\n",
    "\n",
    "programs_data_melted[\"Year\"] = pd.to_numeric(programs_data_melted[\"Year\"], errors=\"coerce\")\n",
    "programs_data_melted = programs_data_melted.dropna(subset=[\"Year\", \"Event_Count\"])\n",
    "\n",
    "programs_events = programs_data_melted.groupby(\"Year\").agg({\"Event_Count\": \"sum\"}).reset_index()\n",
    "programs_events.rename(columns={\"Event_Count\": \"Total_Events\"}, inplace=True)\n",
    "\n",
    "medal_data = medal_data.merge(programs_events, on=\"Year\", how=\"left\")\n"
   ]
  },
  {
   "cell_type": "code",
   "execution_count": 118,
   "metadata": {},
   "outputs": [],
   "source": [
    "original_noc = medal_data[\"NOC\"]\n",
    "\n",
    "medal_data[\"NOC\"] = medal_data[\"NOC\"].astype(\"category\").cat.codes\n",
    "\n",
    "noc_mapping = dict(enumerate(original_noc.astype(\"category\").cat.categories))\n"
   ]
  },
  {
   "cell_type": "code",
   "execution_count": 119,
   "metadata": {},
   "outputs": [],
   "source": [
    "# 添加历史表现的金牌数和总奖牌数\n",
    "medal_data[\"Historical_Gold\"] = (\n",
    "    medal_data.groupby(\"NOC\")[\"Gold\"]\n",
    "    .apply(lambda x: x.shift().cumsum())\n",
    "    .fillna(0)  # Replace NaN with 0 for the first year\n",
    "    .reset_index(drop=True)\n",
    ")\n",
    "\n",
    "medal_data[\"Historical_Total\"] = (\n",
    "    medal_data.groupby(\"NOC\")[\"Total\"]\n",
    "    .apply(lambda x: x.shift().cumsum())\n",
    "    .fillna(0)  # Replace NaN with 0 for the first year\n",
    "    .reset_index(drop=True)\n",
    ")"
   ]
  },
  {
   "cell_type": "code",
   "execution_count": 120,
   "metadata": {},
   "outputs": [],
   "source": [
    "# 添加加权历史表现和滚动平均值\n",
    "def calculate_weighted_and_rolling_features(df, group_col, value_col, span):\n",
    "    \"\"\"\n",
    "    :param df: DataFrame\n",
    "    :param group_col: 分组列（国家）\n",
    "    :param value_col: 计算的数值列（如 Gold 或 Total）\n",
    "    :param span: EWMA 的跨度\n",
    "    :return: 包含加权历史和滚动平均值的新列\n",
    "    \"\"\"\n",
    "    df[f\"Weighted_{value_col}\"] = (\n",
    "        df.groupby(group_col)[value_col]\n",
    "        .apply(lambda x: x.shift().ewm(span=span, adjust=False).mean())\n",
    "        .fillna(0)  # 首次历史值填充为0\n",
    "        .reset_index(drop=True)\n",
    "    )\n",
    "    df[f\"Rolling_{value_col}\"] = (\n",
    "        df.groupby(group_col)[value_col]\n",
    "        .apply(lambda x: x.shift().rolling(window=3, min_periods=1).mean())\n",
    "        .fillna(0)  # 首次滚动值填充为0\n",
    "        .reset_index(drop=True)\n",
    "    )\n",
    "    return df"
   ]
  },
  {
   "cell_type": "code",
   "execution_count": 121,
   "metadata": {},
   "outputs": [],
   "source": [
    "# 应用函数到金牌数和总奖牌数\n",
    "medal_data = calculate_weighted_and_rolling_features(medal_data, \"NOC\", \"Gold\", span=3)\n",
    "medal_data = calculate_weighted_and_rolling_features(medal_data, \"NOC\", \"Total\", span=3)"
   ]
  },
  {
   "cell_type": "code",
   "execution_count": 122,
   "metadata": {},
   "outputs": [
    {
     "name": "stderr",
     "output_type": "stream",
     "text": [
      "C:\\Users\\alanz\\AppData\\Local\\Temp\\ipykernel_35136\\2424083447.py:13: SettingWithCopyWarning: \n",
      "A value is trying to be set on a copy of a slice from a DataFrame.\n",
      "Try using .loc[row_indexer,col_indexer] = value instead\n",
      "\n",
      "See the caveats in the documentation: https://pandas.pydata.org/pandas-docs/stable/user_guide/indexing.html#returning-a-view-versus-a-copy\n",
      "  X[\"Year\"] = X[\"Year\"].astype(int)\n",
      "C:\\Users\\alanz\\AppData\\Local\\Temp\\ipykernel_35136\\2424083447.py:14: SettingWithCopyWarning: \n",
      "A value is trying to be set on a copy of a slice from a DataFrame.\n",
      "Try using .loc[row_indexer,col_indexer] = value instead\n",
      "\n",
      "See the caveats in the documentation: https://pandas.pydata.org/pandas-docs/stable/user_guide/indexing.html#returning-a-view-versus-a-copy\n",
      "  X[\"Host_Status\"] = X[\"Host_Status\"].astype(int)\n",
      "C:\\Users\\alanz\\AppData\\Local\\Temp\\ipykernel_35136\\2424083447.py:15: SettingWithCopyWarning: \n",
      "A value is trying to be set on a copy of a slice from a DataFrame.\n",
      "Try using .loc[row_indexer,col_indexer] = value instead\n",
      "\n",
      "See the caveats in the documentation: https://pandas.pydata.org/pandas-docs/stable/user_guide/indexing.html#returning-a-view-versus-a-copy\n",
      "  X[\"Total_Events\"] = X[\"Total_Events\"].astype(int)\n",
      "C:\\Users\\alanz\\AppData\\Local\\Temp\\ipykernel_35136\\2424083447.py:16: SettingWithCopyWarning: \n",
      "A value is trying to be set on a copy of a slice from a DataFrame.\n",
      "Try using .loc[row_indexer,col_indexer] = value instead\n",
      "\n",
      "See the caveats in the documentation: https://pandas.pydata.org/pandas-docs/stable/user_guide/indexing.html#returning-a-view-versus-a-copy\n",
      "  X[\"Total_Athletes\"] = X[\"Total_Athletes\"].astype(int)\n",
      "C:\\Users\\alanz\\AppData\\Local\\Temp\\ipykernel_35136\\2424083447.py:17: SettingWithCopyWarning: \n",
      "A value is trying to be set on a copy of a slice from a DataFrame.\n",
      "Try using .loc[row_indexer,col_indexer] = value instead\n",
      "\n",
      "See the caveats in the documentation: https://pandas.pydata.org/pandas-docs/stable/user_guide/indexing.html#returning-a-view-versus-a-copy\n",
      "  X[\"Total_Sports\"] = X[\"Total_Sports\"].astype(int)\n",
      "C:\\Users\\alanz\\AppData\\Local\\Temp\\ipykernel_35136\\2424083447.py:18: SettingWithCopyWarning: \n",
      "A value is trying to be set on a copy of a slice from a DataFrame.\n",
      "Try using .loc[row_indexer,col_indexer] = value instead\n",
      "\n",
      "See the caveats in the documentation: https://pandas.pydata.org/pandas-docs/stable/user_guide/indexing.html#returning-a-view-versus-a-copy\n",
      "  X[\"Historical_Gold\"] = X[\"Historical_Gold\"].astype(int)\n",
      "C:\\Users\\alanz\\AppData\\Local\\Temp\\ipykernel_35136\\2424083447.py:19: SettingWithCopyWarning: \n",
      "A value is trying to be set on a copy of a slice from a DataFrame.\n",
      "Try using .loc[row_indexer,col_indexer] = value instead\n",
      "\n",
      "See the caveats in the documentation: https://pandas.pydata.org/pandas-docs/stable/user_guide/indexing.html#returning-a-view-versus-a-copy\n",
      "  X[\"Historical_Total\"] = X[\"Historical_Total\"].astype(int)\n",
      "C:\\Users\\alanz\\AppData\\Local\\Temp\\ipykernel_35136\\2424083447.py:20: SettingWithCopyWarning: \n",
      "A value is trying to be set on a copy of a slice from a DataFrame.\n",
      "Try using .loc[row_indexer,col_indexer] = value instead\n",
      "\n",
      "See the caveats in the documentation: https://pandas.pydata.org/pandas-docs/stable/user_guide/indexing.html#returning-a-view-versus-a-copy\n",
      "  X[\"Weighted_Gold\"] = X[\"Weighted_Gold\"].astype(int)\n",
      "C:\\Users\\alanz\\AppData\\Local\\Temp\\ipykernel_35136\\2424083447.py:21: SettingWithCopyWarning: \n",
      "A value is trying to be set on a copy of a slice from a DataFrame.\n",
      "Try using .loc[row_indexer,col_indexer] = value instead\n",
      "\n",
      "See the caveats in the documentation: https://pandas.pydata.org/pandas-docs/stable/user_guide/indexing.html#returning-a-view-versus-a-copy\n",
      "  X[\"Rolling_Gold\"] = X[\"Rolling_Gold\"].astype(int)\n",
      "C:\\Users\\alanz\\AppData\\Local\\Temp\\ipykernel_35136\\2424083447.py:22: SettingWithCopyWarning: \n",
      "A value is trying to be set on a copy of a slice from a DataFrame.\n",
      "Try using .loc[row_indexer,col_indexer] = value instead\n",
      "\n",
      "See the caveats in the documentation: https://pandas.pydata.org/pandas-docs/stable/user_guide/indexing.html#returning-a-view-versus-a-copy\n",
      "  X[\"Weighted_Total\"] = X[\"Weighted_Total\"].astype(int)\n",
      "C:\\Users\\alanz\\AppData\\Local\\Temp\\ipykernel_35136\\2424083447.py:23: SettingWithCopyWarning: \n",
      "A value is trying to be set on a copy of a slice from a DataFrame.\n",
      "Try using .loc[row_indexer,col_indexer] = value instead\n",
      "\n",
      "See the caveats in the documentation: https://pandas.pydata.org/pandas-docs/stable/user_guide/indexing.html#returning-a-view-versus-a-copy\n",
      "  X[\"Rolling_Total\"] = X[\"Rolling_Total\"].astype(int)\n"
     ]
    }
   ],
   "source": [
    "X = medal_data[[\n",
    "    \"Year\", \"NOC\", \"Host_Status\", \"Total_Events\", \n",
    "    \"Total_Athletes\", \"Total_Sports\", \n",
    "    \"Historical_Gold\", \"Historical_Total\", \n",
    "    \"Weighted_Gold\", \"Rolling_Gold\", \n",
    "    \"Weighted_Total\", \"Rolling_Total\"\n",
    "]]\n",
    "y = medal_data[\"Gold\"]  # Predicting Gold medal count\n",
    "\n",
    "# 确保所有数据类型正确\n",
    "X[\"Year\"] = X[\"Year\"].astype(int)\n",
    "X[\"Host_Status\"] = X[\"Host_Status\"].astype(int)\n",
    "X[\"Total_Events\"] = X[\"Total_Events\"].astype(int)\n",
    "X[\"Total_Athletes\"] = X[\"Total_Athletes\"].astype(int)\n",
    "X[\"Total_Sports\"] = X[\"Total_Sports\"].astype(int)\n",
    "X[\"Historical_Gold\"] = X[\"Historical_Gold\"].astype(int)\n",
    "X[\"Historical_Total\"] = X[\"Historical_Total\"].astype(int)\n",
    "X[\"Weighted_Gold\"] = X[\"Weighted_Gold\"].astype(int)\n",
    "X[\"Rolling_Gold\"] = X[\"Rolling_Gold\"].astype(int)\n",
    "X[\"Weighted_Total\"] = X[\"Weighted_Total\"].astype(int)\n",
    "X[\"Rolling_Total\"] = X[\"Rolling_Total\"].astype(int)\n",
    "\n",
    "X_train, X_test, y_train, y_test = train_test_split(X, y, test_size=0.2, random_state=42)\n"
   ]
  },
  {
   "cell_type": "code",
   "execution_count": 123,
   "metadata": {},
   "outputs": [
    {
     "data": {
      "text/html": [
       "<style>#sk-container-id-37 {color: black;}#sk-container-id-37 pre{padding: 0;}#sk-container-id-37 div.sk-toggleable {background-color: white;}#sk-container-id-37 label.sk-toggleable__label {cursor: pointer;display: block;width: 100%;margin-bottom: 0;padding: 0.3em;box-sizing: border-box;text-align: center;}#sk-container-id-37 label.sk-toggleable__label-arrow:before {content: \"▸\";float: left;margin-right: 0.25em;color: #696969;}#sk-container-id-37 label.sk-toggleable__label-arrow:hover:before {color: black;}#sk-container-id-37 div.sk-estimator:hover label.sk-toggleable__label-arrow:before {color: black;}#sk-container-id-37 div.sk-toggleable__content {max-height: 0;max-width: 0;overflow: hidden;text-align: left;background-color: #f0f8ff;}#sk-container-id-37 div.sk-toggleable__content pre {margin: 0.2em;color: black;border-radius: 0.25em;background-color: #f0f8ff;}#sk-container-id-37 input.sk-toggleable__control:checked~div.sk-toggleable__content {max-height: 200px;max-width: 100%;overflow: auto;}#sk-container-id-37 input.sk-toggleable__control:checked~label.sk-toggleable__label-arrow:before {content: \"▾\";}#sk-container-id-37 div.sk-estimator input.sk-toggleable__control:checked~label.sk-toggleable__label {background-color: #d4ebff;}#sk-container-id-37 div.sk-label input.sk-toggleable__control:checked~label.sk-toggleable__label {background-color: #d4ebff;}#sk-container-id-37 input.sk-hidden--visually {border: 0;clip: rect(1px 1px 1px 1px);clip: rect(1px, 1px, 1px, 1px);height: 1px;margin: -1px;overflow: hidden;padding: 0;position: absolute;width: 1px;}#sk-container-id-37 div.sk-estimator {font-family: monospace;background-color: #f0f8ff;border: 1px dotted black;border-radius: 0.25em;box-sizing: border-box;margin-bottom: 0.5em;}#sk-container-id-37 div.sk-estimator:hover {background-color: #d4ebff;}#sk-container-id-37 div.sk-parallel-item::after {content: \"\";width: 100%;border-bottom: 1px solid gray;flex-grow: 1;}#sk-container-id-37 div.sk-label:hover label.sk-toggleable__label {background-color: #d4ebff;}#sk-container-id-37 div.sk-serial::before {content: \"\";position: absolute;border-left: 1px solid gray;box-sizing: border-box;top: 0;bottom: 0;left: 50%;z-index: 0;}#sk-container-id-37 div.sk-serial {display: flex;flex-direction: column;align-items: center;background-color: white;padding-right: 0.2em;padding-left: 0.2em;position: relative;}#sk-container-id-37 div.sk-item {position: relative;z-index: 1;}#sk-container-id-37 div.sk-parallel {display: flex;align-items: stretch;justify-content: center;background-color: white;position: relative;}#sk-container-id-37 div.sk-item::before, #sk-container-id-37 div.sk-parallel-item::before {content: \"\";position: absolute;border-left: 1px solid gray;box-sizing: border-box;top: 0;bottom: 0;left: 50%;z-index: -1;}#sk-container-id-37 div.sk-parallel-item {display: flex;flex-direction: column;z-index: 1;position: relative;background-color: white;}#sk-container-id-37 div.sk-parallel-item:first-child::after {align-self: flex-end;width: 50%;}#sk-container-id-37 div.sk-parallel-item:last-child::after {align-self: flex-start;width: 50%;}#sk-container-id-37 div.sk-parallel-item:only-child::after {width: 0;}#sk-container-id-37 div.sk-dashed-wrapped {border: 1px dashed gray;margin: 0 0.4em 0.5em 0.4em;box-sizing: border-box;padding-bottom: 0.4em;background-color: white;}#sk-container-id-37 div.sk-label label {font-family: monospace;font-weight: bold;display: inline-block;line-height: 1.2em;}#sk-container-id-37 div.sk-label-container {text-align: center;}#sk-container-id-37 div.sk-container {/* jupyter's `normalize.less` sets `[hidden] { display: none; }` but bootstrap.min.css set `[hidden] { display: none !important; }` so we also need the `!important` here to be able to override the default hidden behavior on the sphinx rendered scikit-learn.org. See: https://github.com/scikit-learn/scikit-learn/issues/21755 */display: inline-block !important;position: relative;}#sk-container-id-37 div.sk-text-repr-fallback {display: none;}</style><div id=\"sk-container-id-37\" class=\"sk-top-container\"><div class=\"sk-text-repr-fallback\"><pre>XGBRegressor(base_score=None, booster=None, callbacks=None,\n",
       "             colsample_bylevel=None, colsample_bynode=None,\n",
       "             colsample_bytree=None, device=None, early_stopping_rounds=None,\n",
       "             enable_categorical=False, eval_metric=None, feature_types=None,\n",
       "             gamma=None, grow_policy=None, importance_type=None,\n",
       "             interaction_constraints=None, learning_rate=0.2, max_bin=None,\n",
       "             max_cat_threshold=None, max_cat_to_onehot=None,\n",
       "             max_delta_step=None, max_depth=5, max_leaves=None,\n",
       "             min_child_weight=None, missing=nan, monotone_constraints=None,\n",
       "             multi_strategy=None, n_estimators=200, n_jobs=None,\n",
       "             num_parallel_tree=None, random_state=42, ...)</pre><b>In a Jupyter environment, please rerun this cell to show the HTML representation or trust the notebook. <br />On GitHub, the HTML representation is unable to render, please try loading this page with nbviewer.org.</b></div><div class=\"sk-container\" hidden><div class=\"sk-item\"><div class=\"sk-estimator sk-toggleable\"><input class=\"sk-toggleable__control sk-hidden--visually\" id=\"sk-estimator-id-37\" type=\"checkbox\" checked><label for=\"sk-estimator-id-37\" class=\"sk-toggleable__label sk-toggleable__label-arrow\">XGBRegressor</label><div class=\"sk-toggleable__content\"><pre>XGBRegressor(base_score=None, booster=None, callbacks=None,\n",
       "             colsample_bylevel=None, colsample_bynode=None,\n",
       "             colsample_bytree=None, device=None, early_stopping_rounds=None,\n",
       "             enable_categorical=False, eval_metric=None, feature_types=None,\n",
       "             gamma=None, grow_policy=None, importance_type=None,\n",
       "             interaction_constraints=None, learning_rate=0.2, max_bin=None,\n",
       "             max_cat_threshold=None, max_cat_to_onehot=None,\n",
       "             max_delta_step=None, max_depth=5, max_leaves=None,\n",
       "             min_child_weight=None, missing=nan, monotone_constraints=None,\n",
       "             multi_strategy=None, n_estimators=200, n_jobs=None,\n",
       "             num_parallel_tree=None, random_state=42, ...)</pre></div></div></div></div></div>"
      ],
      "text/plain": [
       "XGBRegressor(base_score=None, booster=None, callbacks=None,\n",
       "             colsample_bylevel=None, colsample_bynode=None,\n",
       "             colsample_bytree=None, device=None, early_stopping_rounds=None,\n",
       "             enable_categorical=False, eval_metric=None, feature_types=None,\n",
       "             gamma=None, grow_policy=None, importance_type=None,\n",
       "             interaction_constraints=None, learning_rate=0.2, max_bin=None,\n",
       "             max_cat_threshold=None, max_cat_to_onehot=None,\n",
       "             max_delta_step=None, max_depth=5, max_leaves=None,\n",
       "             min_child_weight=None, missing=nan, monotone_constraints=None,\n",
       "             multi_strategy=None, n_estimators=200, n_jobs=None,\n",
       "             num_parallel_tree=None, random_state=42, ...)"
      ]
     },
     "execution_count": 123,
     "metadata": {},
     "output_type": "execute_result"
    }
   ],
   "source": [
    "xgb_model = xgb.XGBRegressor(\n",
    "    objective=\"reg:squarederror\",\n",
    "    n_estimators=200,\n",
    "    max_depth=5,\n",
    "    learning_rate=0.2,\n",
    "    random_state=42\n",
    ")\n",
    "\n",
    "xgb_model.fit(X_train, y_train)\n"
   ]
  },
  {
   "cell_type": "code",
   "execution_count": 124,
   "metadata": {},
   "outputs": [
    {
     "name": "stdout",
     "output_type": "stream",
     "text": [
      "Mean Squared Error: 54.26072788338403\n"
     ]
    }
   ],
   "source": [
    "# 模型评估\n",
    "y_pred = xgb_model.predict(X_test)\n",
    "mse = mean_squared_error(y_test, y_pred)\n",
    "print(f\"Mean Squared Error: {mse}\")\n"
   ]
  },
  {
   "cell_type": "code",
   "execution_count": 126,
   "metadata": {},
   "outputs": [
    {
     "name": "stdout",
     "output_type": "stream",
     "text": [
      "   Year  NOC  Actual_Gold  Predicted_Gold       NOC_Name\n",
      "0  1900   16            6               2        Belgium\n",
      "1  1900   19            0              12        Bohemia\n",
      "2  1900   30            1               1         Canada\n",
      "3  1900   84            0               0          India\n",
      "4  1904    7            0               3      Australia\n",
      "5  1904   62            0               6         France\n",
      "6  1904  194           76              23  United States\n",
      "7  1908    9            0               1        Austria\n",
      "8  1908   30            3               1         Canada\n",
      "9  1908   66            3               7        Germany\n"
     ]
    }
   ],
   "source": [
    "# 预测结果并将其转换为正整数\n",
    "predictions = pd.DataFrame({\n",
    "    \"Year\": X_test[\"Year\"],\n",
    "    \"NOC\": X_test[\"NOC\"],\n",
    "    \"Actual_Gold\": y_test,\n",
    "    \"Predicted_Gold\": y_pred\n",
    "})\n",
    "\n",
    "# 将预测结果转换为正整数\n",
    "predictions[\"Predicted_Gold\"] = predictions[\"Predicted_Gold\"].round().astype(int)\n",
    "predictions[\"Predicted_Gold\"] = predictions[\"Predicted_Gold\"].apply(lambda x: max(x, 0))  # 确保不为负数\n",
    "\n",
    "# 将 NOC 编码还原为国家名称\n",
    "predictions[\"NOC_Name\"] = predictions[\"NOC\"].map(noc_mapping)\n",
    "\n",
    "# 按年份和国家排序\n",
    "predictions = predictions.sort_values(by=[\"Year\", \"NOC_Name\"]).reset_index(drop=True)\n",
    "\n",
    "# 显示部分结果\n",
    "print(predictions.head(10))\n",
    "\n",
    "# 保存结果到 CSV 文件\n",
    "predictions.to_csv(\"predicted_gold_medals.csv\", index=False)\n"
   ]
  }
 ],
 "metadata": {
  "kernelspec": {
   "display_name": "mcm2025",
   "language": "python",
   "name": "python3"
  },
  "language_info": {
   "codemirror_mode": {
    "name": "ipython",
    "version": 3
   },
   "file_extension": ".py",
   "mimetype": "text/x-python",
   "name": "python",
   "nbconvert_exporter": "python",
   "pygments_lexer": "ipython3",
   "version": "3.8.20"
  }
 },
 "nbformat": 4,
 "nbformat_minor": 2
}
